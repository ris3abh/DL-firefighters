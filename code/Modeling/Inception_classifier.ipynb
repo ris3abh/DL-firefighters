{
 "cells": [
  {
   "cell_type": "code",
   "execution_count": 1,
   "metadata": {},
   "outputs": [],
   "source": [
    "#General Use\n",
    "import numpy as np\n",
    "import random\n",
    "import itertools\n",
    "\n",
    "#Model Development\n",
    "import tensorflow as tf\n",
    "from tensorflow import keras\n",
    "from tensorflow.keras import layers\n",
    "from tensorflow.keras.layers import Input\n",
    "from tensorflow.keras.layers import concatenate\n",
    "from tensorflow.keras.layers import MaxPooling2D\n",
    "from tensorflow.keras.layers import Dropout, Lambda\n",
    "from tensorflow.keras.layers import Conv2D, Conv2DTranspose\n",
    "\n",
    "#Model Analysis / Evaluation\n",
    "import matplotlib.pyplot as plt\n",
    "from tensorflow.keras.models import load_model\n",
    "from tensorflow.keras.models import Model\n",
    "# from skimage.io import imshow\n",
    "import matplotlib.pyplot as plt\n",
    "\n",
    "#Saving models\n",
    "import pickle "
   ]
  },
  {
   "cell_type": "code",
   "execution_count": 2,
   "metadata": {},
   "outputs": [
    {
     "name": "stdout",
     "output_type": "stream",
     "text": [
      "Found 31501 files belonging to 2 classes.\n",
      "Using 25201 files for training.\n",
      "Found 31501 files belonging to 2 classes.\n",
      "Using 6300 files for validation.\n"
     ]
    }
   ],
   "source": [
    "\n",
    "local_train_dir = '../../data/images/Training'\n",
    "image_size = (150, 150)\n",
    "\n",
    "train_ds = tf.keras.preprocessing.image_dataset_from_directory(\n",
    "    local_train_dir, validation_split=0.2, subset=\"training\", seed=1337, image_size=image_size,\n",
    "    batch_size=32, shuffle=True\n",
    "    )\n",
    "\n",
    "val_ds = tf.keras.preprocessing.image_dataset_from_directory(\n",
    "    local_train_dir, validation_split=0.2, subset=\"validation\", seed=1337, image_size=image_size,\n",
    "    batch_size=32, shuffle=True\n",
    "    )"
   ]
  },
  {
   "cell_type": "code",
   "execution_count": 3,
   "metadata": {},
   "outputs": [],
   "source": [
    "\n",
    "train_ds = train_ds.prefetch(buffer_size=32)\n",
    "val_ds = val_ds.prefetch(buffer_size=32)"
   ]
  },
  {
   "cell_type": "code",
   "execution_count": 4,
   "metadata": {},
   "outputs": [
    {
     "name": "stderr",
     "output_type": "stream",
     "text": [
      "WARNING:absl:At this time, the v2.11+ optimizer `tf.keras.optimizers.Adam` runs slowly on M1/M2 Macs, please use the legacy Keras optimizer instead, located at `tf.keras.optimizers.legacy.Adam`.\n",
      "WARNING:absl:There is a known slowdown when using v2.11+ Keras optimizers on M1/M2 Macs. Falling back to the legacy Keras optimizer, i.e., `tf.keras.optimizers.legacy.Adam`.\n"
     ]
    },
    {
     "name": "stdout",
     "output_type": "stream",
     "text": [
      "Model: \"model\"\n",
      "_________________________________________________________________\n",
      " Layer (type)                Output Shape              Param #   \n",
      "=================================================================\n",
      " input_2 (InputLayer)        [(None, 150, 150, 3)]     0         \n",
      "                                                                 \n",
      " tf.math.truediv (TFOpLambd  (None, 150, 150, 3)       0         \n",
      " a)                                                              \n",
      "                                                                 \n",
      " tf.math.subtract (TFOpLamb  (None, 150, 150, 3)       0         \n",
      " da)                                                             \n",
      "                                                                 \n",
      " inception_v3 (Functional)   (None, 3, 3, 2048)        21802784  \n",
      "                                                                 \n",
      " global_average_pooling2d (  (None, 2048)              0         \n",
      " GlobalAveragePooling2D)                                         \n",
      "                                                                 \n",
      " dense (Dense)               (None, 1024)              2098176   \n",
      "                                                                 \n",
      " dense_1 (Dense)             (None, 512)               524800    \n",
      "                                                                 \n",
      " dense_2 (Dense)             (None, 256)               131328    \n",
      "                                                                 \n",
      " dense_3 (Dense)             (None, 1)                 257       \n",
      "                                                                 \n",
      "=================================================================\n",
      "Total params: 24557345 (93.68 MB)\n",
      "Trainable params: 2754561 (10.51 MB)\n",
      "Non-trainable params: 21802784 (83.17 MB)\n",
      "_________________________________________________________________\n"
     ]
    }
   ],
   "source": [
    "\n",
    "# InceptionV3\n",
    "from tensorflow.keras.applications.inception_v3 import InceptionV3\n",
    "from tensorflow.keras.applications.inception_v3 import preprocess_input\n",
    "\n",
    "# Create the base model from the pre-trained model InceptionV3\n",
    "base_model = InceptionV3(input_shape=(150, 150, 3), include_top=False, weights='imagenet')\n",
    "\n",
    "# Freeze the base model\n",
    "base_model.trainable = False\n",
    "\n",
    "# Create new model on top\n",
    "inputs = keras.Input(shape=(150, 150, 3))\n",
    "x = preprocess_input(inputs)\n",
    "x = base_model(x, training=False)\n",
    "x = keras.layers.GlobalAveragePooling2D()(x)\n",
    "x = keras.layers.Dense(1024, activation='relu')(x)\n",
    "x = keras.layers.Dense(512, activation='relu')(x)\n",
    "x = keras.layers.Dense(256, activation='relu')(x)\n",
    "outputs = keras.layers.Dense(1, activation='sigmoid')(x)\n",
    "model = keras.Model(inputs, outputs)\n",
    "\n",
    "# Compile the model\n",
    "model.compile(optimizer=keras.optimizers.Adam(learning_rate=0.0001),    \n",
    "                loss=keras.losses.BinaryCrossentropy(from_logits=True),\n",
    "                metrics=[keras.metrics.BinaryAccuracy()])\n",
    "model.summary()"
   ]
  },
  {
   "cell_type": "code",
   "execution_count": 5,
   "metadata": {},
   "outputs": [
    {
     "name": "stderr",
     "output_type": "stream",
     "text": [
      "WARNING:absl:At this time, the v2.11+ optimizer `tf.keras.optimizers.Adam` runs slowly on M1/M2 Macs, please use the legacy Keras optimizer instead, located at `tf.keras.optimizers.legacy.Adam`.\n",
      "WARNING:absl:There is a known slowdown when using v2.11+ Keras optimizers on M1/M2 Macs. Falling back to the legacy Keras optimizer, i.e., `tf.keras.optimizers.legacy.Adam`.\n",
      "2023-09-03 22:38:50.434681: I tensorflow/core/common_runtime/executor.cc:1210] [/device:CPU:0] (DEBUG INFO) Executor start aborting (this does not indicate an error and you can ignore this message): INVALID_ARGUMENT: You must feed a value for placeholder tensor 'Placeholder/_4' with dtype int32 and shape [25201]\n",
      "\t [[{{node Placeholder/_4}}]]\n",
      "2023-09-03 22:38:50.434863: I tensorflow/core/common_runtime/executor.cc:1210] [/device:CPU:0] (DEBUG INFO) Executor start aborting (this does not indicate an error and you can ignore this message): INVALID_ARGUMENT: You must feed a value for placeholder tensor 'Placeholder/_4' with dtype int32 and shape [25201]\n",
      "\t [[{{node Placeholder/_4}}]]\n"
     ]
    },
    {
     "name": "stdout",
     "output_type": "stream",
     "text": [
      "Epoch 1/20\n"
     ]
    },
    {
     "name": "stderr",
     "output_type": "stream",
     "text": [
      "2023-09-03 22:38:54.316004: I tensorflow/core/common_runtime/executor.cc:1210] [/device:CPU:0] (DEBUG INFO) Executor start aborting (this does not indicate an error and you can ignore this message): INVALID_ARGUMENT: You must feed a value for placeholder tensor 'Placeholder/_4' with dtype int32 and shape [25201]\n",
      "\t [[{{node Placeholder/_4}}]]\n",
      "2023-09-03 22:38:54.316194: I tensorflow/core/common_runtime/executor.cc:1210] [/device:CPU:0] (DEBUG INFO) Executor start aborting (this does not indicate an error and you can ignore this message): INVALID_ARGUMENT: You must feed a value for placeholder tensor 'Placeholder/_4' with dtype int32 and shape [25201]\n",
      "\t [[{{node Placeholder/_4}}]]\n",
      "/opt/homebrew/lib/python3.11/site-packages/keras/src/backend.py:5805: UserWarning: \"`binary_crossentropy` received `from_logits=True`, but the `output` argument was produced by a Sigmoid activation and thus does not represent logits. Was this intended?\n",
      "  output, from_logits = _get_logits(\n"
     ]
    },
    {
     "name": "stdout",
     "output_type": "stream",
     "text": [
      "788/788 [==============================] - ETA: 0s - loss: 244.5067 - auc: 0.9986 - tp: 9075.0000 - tn: 15849.0000 - fp: 154.0000 - fn: 123.0000 - precision: 0.9833 - recall: 0.9866 - bin_accuracy: 0.9890"
     ]
    },
    {
     "name": "stderr",
     "output_type": "stream",
     "text": [
      "2023-09-03 22:42:53.500741: I tensorflow/core/common_runtime/executor.cc:1210] [/device:CPU:0] (DEBUG INFO) Executor start aborting (this does not indicate an error and you can ignore this message): INVALID_ARGUMENT: You must feed a value for placeholder tensor 'Placeholder/_4' with dtype int32 and shape [6300]\n",
      "\t [[{{node Placeholder/_4}}]]\n",
      "2023-09-03 22:42:53.500940: I tensorflow/core/common_runtime/executor.cc:1210] [/device:CPU:0] (DEBUG INFO) Executor start aborting (this does not indicate an error and you can ignore this message): INVALID_ARGUMENT: You must feed a value for placeholder tensor 'Placeholder/_0' with dtype string and shape [6300]\n",
      "\t [[{{node Placeholder/_0}}]]\n"
     ]
    },
    {
     "name": "stdout",
     "output_type": "stream",
     "text": [
      "788/788 [==============================] - 335s 423ms/step - loss: 244.5067 - auc: 0.9986 - tp: 9075.0000 - tn: 15849.0000 - fp: 154.0000 - fn: 123.0000 - precision: 0.9833 - recall: 0.9866 - bin_accuracy: 0.9890 - val_loss: 0.0135 - val_auc: 0.9995 - val_tp: 2261.0000 - val_tn: 4002.0000 - val_fp: 10.0000 - val_fn: 27.0000 - val_precision: 0.9956 - val_recall: 0.9882 - val_bin_accuracy: 0.9941\n",
      "Epoch 2/20\n",
      "788/788 [==============================] - 472s 598ms/step - loss: 57.7152 - auc: 0.9998 - tp: 9168.0000 - tn: 15948.0000 - fp: 55.0000 - fn: 30.0000 - precision: 0.9940 - recall: 0.9967 - bin_accuracy: 0.9966 - val_loss: 0.0079 - val_auc: 0.9995 - val_tp: 2274.0000 - val_tn: 4010.0000 - val_fp: 2.0000 - val_fn: 14.0000 - val_precision: 0.9991 - val_recall: 0.9939 - val_bin_accuracy: 0.9975\n",
      "Epoch 3/20\n",
      "788/788 [==============================] - 3146s 4s/step - loss: 38.7179 - auc: 0.9999 - tp: 9180.0000 - tn: 15968.0000 - fp: 35.0000 - fn: 18.0000 - precision: 0.9962 - recall: 0.9980 - bin_accuracy: 0.9979 - val_loss: 0.0083 - val_auc: 0.9996 - val_tp: 2282.0000 - val_tn: 4000.0000 - val_fp: 12.0000 - val_fn: 6.0000 - val_precision: 0.9948 - val_recall: 0.9974 - val_bin_accuracy: 0.9971\n",
      "Epoch 4/20\n",
      "788/788 [==============================] - 483s 613ms/step - loss: 30.3174 - auc: 0.9999 - tp: 9178.0000 - tn: 15973.0000 - fp: 30.0000 - fn: 20.0000 - precision: 0.9967 - recall: 0.9978 - bin_accuracy: 0.9980 - val_loss: 0.0056 - val_auc: 0.9998 - val_tp: 2282.0000 - val_tn: 4005.0000 - val_fp: 7.0000 - val_fn: 6.0000 - val_precision: 0.9969 - val_recall: 0.9974 - val_bin_accuracy: 0.9979\n",
      "Epoch 5/20\n",
      "788/788 [==============================] - 464s 589ms/step - loss: 15.2411 - auc: 0.9999 - tp: 9192.0000 - tn: 15989.0000 - fp: 14.0000 - fn: 6.0000 - precision: 0.9985 - recall: 0.9993 - bin_accuracy: 0.9992 - val_loss: 0.0100 - val_auc: 0.9993 - val_tp: 2278.0000 - val_tn: 4005.0000 - val_fp: 7.0000 - val_fn: 10.0000 - val_precision: 0.9969 - val_recall: 0.9956 - val_bin_accuracy: 0.9973\n",
      "Epoch 6/20\n",
      "788/788 [==============================] - 471s 597ms/step - loss: 29.6755 - auc: 0.9999 - tp: 9184.0000 - tn: 15975.0000 - fp: 28.0000 - fn: 14.0000 - precision: 0.9970 - recall: 0.9985 - bin_accuracy: 0.9983 - val_loss: 0.0090 - val_auc: 0.9993 - val_tp: 2283.0000 - val_tn: 4004.0000 - val_fp: 8.0000 - val_fn: 5.0000 - val_precision: 0.9965 - val_recall: 0.9978 - val_bin_accuracy: 0.9979\n",
      "Epoch 7/20\n",
      "788/788 [==============================] - 471s 598ms/step - loss: 19.1513 - auc: 0.9999 - tp: 9191.0000 - tn: 15987.0000 - fp: 16.0000 - fn: 7.0000 - precision: 0.9983 - recall: 0.9992 - bin_accuracy: 0.9991 - val_loss: 0.0101 - val_auc: 0.9991 - val_tp: 2283.0000 - val_tn: 4004.0000 - val_fp: 8.0000 - val_fn: 5.0000 - val_precision: 0.9965 - val_recall: 0.9978 - val_bin_accuracy: 0.9979\n",
      "Epoch 8/20\n",
      "788/788 [==============================] - 474s 602ms/step - loss: 18.0712 - auc: 0.9999 - tp: 9189.0000 - tn: 15985.0000 - fp: 18.0000 - fn: 9.0000 - precision: 0.9980 - recall: 0.9990 - bin_accuracy: 0.9989 - val_loss: 0.0077 - val_auc: 0.9995 - val_tp: 2285.0000 - val_tn: 4003.0000 - val_fp: 9.0000 - val_fn: 3.0000 - val_precision: 0.9961 - val_recall: 0.9987 - val_bin_accuracy: 0.9981\n",
      "Epoch 9/20\n",
      "788/788 [==============================] - 476s 604ms/step - loss: 16.9617 - auc: 0.9998 - tp: 9191.0000 - tn: 15991.0000 - fp: 12.0000 - fn: 7.0000 - precision: 0.9987 - recall: 0.9992 - bin_accuracy: 0.9992 - val_loss: 0.0183 - val_auc: 0.9991 - val_tp: 2286.0000 - val_tn: 3980.0000 - val_fp: 32.0000 - val_fn: 2.0000 - val_precision: 0.9862 - val_recall: 0.9991 - val_bin_accuracy: 0.9946\n",
      "Epoch 10/20\n",
      "788/788 [==============================] - 467s 593ms/step - loss: 15.5455 - auc: 0.9999 - tp: 9191.0000 - tn: 15987.0000 - fp: 16.0000 - fn: 7.0000 - precision: 0.9983 - recall: 0.9992 - bin_accuracy: 0.9991 - val_loss: 0.0112 - val_auc: 0.9993 - val_tp: 2284.0000 - val_tn: 4004.0000 - val_fp: 8.0000 - val_fn: 4.0000 - val_precision: 0.9965 - val_recall: 0.9983 - val_bin_accuracy: 0.9981\n",
      "Epoch 11/20\n",
      "788/788 [==============================] - 520s 660ms/step - loss: 19.9817 - auc: 0.9998 - tp: 9193.0000 - tn: 15989.0000 - fp: 14.0000 - fn: 5.0000 - precision: 0.9985 - recall: 0.9995 - bin_accuracy: 0.9992 - val_loss: 0.0072 - val_auc: 0.9995 - val_tp: 2284.0000 - val_tn: 4005.0000 - val_fp: 7.0000 - val_fn: 4.0000 - val_precision: 0.9969 - val_recall: 0.9983 - val_bin_accuracy: 0.9983\n",
      "Epoch 12/20\n",
      "788/788 [==============================] - 474s 601ms/step - loss: 4.7066 - auc: 1.0000 - tp: 9196.0000 - tn: 15999.0000 - fp: 4.0000 - fn: 2.0000 - precision: 0.9996 - recall: 0.9998 - bin_accuracy: 0.9998 - val_loss: 0.0073 - val_auc: 0.9995 - val_tp: 2284.0000 - val_tn: 4005.0000 - val_fp: 7.0000 - val_fn: 4.0000 - val_precision: 0.9969 - val_recall: 0.9983 - val_bin_accuracy: 0.9983\n",
      "Epoch 13/20\n",
      "788/788 [==============================] - 477s 606ms/step - loss: 21.4057 - auc: 0.9999 - tp: 9187.0000 - tn: 15983.0000 - fp: 20.0000 - fn: 11.0000 - precision: 0.9978 - recall: 0.9988 - bin_accuracy: 0.9988 - val_loss: 0.0106 - val_auc: 0.9993 - val_tp: 2283.0000 - val_tn: 4005.0000 - val_fp: 7.0000 - val_fn: 5.0000 - val_precision: 0.9969 - val_recall: 0.9978 - val_bin_accuracy: 0.9981\n",
      "Epoch 14/20\n",
      "788/788 [==============================] - ETA: 0s - loss: 9.0481 - auc: 0.9999 - tp: 9196.0000 - tn: 15995.0000 - fp: 8.0000 - fn: 2.0000 - precision: 0.9991 - recall: 0.9998 - bin_accuracy: 0.9996Restoring model weights from the end of the best epoch: 4.\n",
      "788/788 [==============================] - 468s 594ms/step - loss: 9.0481 - auc: 0.9999 - tp: 9196.0000 - tn: 15995.0000 - fp: 8.0000 - fn: 2.0000 - precision: 0.9991 - recall: 0.9998 - bin_accuracy: 0.9996 - val_loss: 0.0195 - val_auc: 0.9991 - val_tp: 2285.0000 - val_tn: 3983.0000 - val_fp: 29.0000 - val_fn: 3.0000 - val_precision: 0.9875 - val_recall: 0.9987 - val_bin_accuracy: 0.9949\n",
      "Epoch 14: early stopping\n"
     ]
    }
   ],
   "source": [
    "\n",
    "METRICS = [\n",
    "    tf.keras.metrics.AUC(name='auc'),\n",
    "    tf.keras.metrics.TruePositives(name='tp'),\n",
    "    tf.keras.metrics.TrueNegatives(name='tn'),\n",
    "    tf.keras.metrics.FalsePositives(name='fp'),\n",
    "    tf.keras.metrics.FalseNegatives(name='fn'),\n",
    "    tf.keras.metrics.Precision(name='precision'),\n",
    "    tf.keras.metrics.Recall(name='recall'),\n",
    "    tf.keras.metrics.BinaryAccuracy(name='bin_accuracy')\n",
    "]\n",
    "\n",
    "model.compile(optimizer=keras.optimizers.Adam(learning_rate=0.0001),\n",
    "                loss=keras.losses.BinaryCrossentropy(from_logits=True),\n",
    "                metrics=METRICS)\n",
    "\n",
    "# Define callbacks\n",
    "early_stopping = tf.keras.callbacks.EarlyStopping(\n",
    "    monitor='val_auc',\n",
    "    verbose=1,\n",
    "    patience=10,\n",
    "    mode='max',\n",
    "    restore_best_weights=True)\n",
    "\n",
    "# Define class weights\n",
    "total = 0\n",
    "for image, label in train_ds:\n",
    "    total += label.numpy().sum()\n",
    "\n",
    "weight_for_0 = (1 / 1) * (total) / 2.0\n",
    "weight_for_1 = (1 / 0.5) * (total) / 2.0\n",
    "\n",
    "class_weight = {0: weight_for_0, 1: weight_for_1}\n",
    "\n",
    "# Train the model\n",
    "history = model.fit(train_ds, epochs=20, validation_data=val_ds, callbacks=[early_stopping], class_weight=class_weight)"
   ]
  },
  {
   "cell_type": "code",
   "execution_count": 14,
   "metadata": {},
   "outputs": [
    {
     "data": {
      "image/png": "[encoded data removed]",
      "text/plain": [
       "<Figure size 432x288 with 1 Axes>"
      ]
     },
     "metadata": {
      "needs_background": "light"
     },
     "output_type": "display_data"
    }
   ],
   "source": [
    "# plotting the accuracy\n",
    "\n",
    "plt.plot(history.history['bin_accuracy'])\n",
    "plt.plot(history.history['val_bin_accuracy'])\n",
    "plt.title('Model Accuracy')\n",
    "plt.ylabel('Accuracy')\n",
    "plt.xlabel('Epoch')\n",
    "plt.legend(['Train', 'Val'], loc='upper left')\n",
    "plt.show()"
   ]
  },
  {
   "cell_type": "code",
   "execution_count": 11,
   "metadata": {},
   "outputs": [
    {
     "data": {
      "text/plain": [
       "Text(0.5, 1.0, 'Training and Validation AUC')"
      ]
     },
     "execution_count": 11,
     "metadata": {},
     "output_type": "execute_result"
    },
    {
     "data": {
      "image/png": "[encoded data removed]",
      "text/plain": [
       "<Figure size 720x720 with 1 Axes>"
      ]
     },
     "metadata": {
      "needs_background": "light"
     },
     "output_type": "display_data"
    }
   ],
   "source": [
    "\n",
    "# plotting the metrics\n",
    "fig = plt.figure(figsize=(10, 10))\n",
    "plt.subplot(2, 1, 1)\n",
    "plt.plot(history.history['auc'], label='Training AUC')\n",
    "plt.plot(history.history['val_auc'], label='Validation AUC')\n",
    "plt.legend(loc='lower right')\n",
    "plt.ylabel('AUC')\n",
    "plt.ylim([min(plt.ylim()),1])\n",
    "plt.title('Training and Validation AUC')\n"
   ]
  },
  {
   "cell_type": "code",
   "execution_count": 13,
   "metadata": {},
   "outputs": [
    {
     "data": {
      "image/png": "[encoded data removed]",
      "text/plain": [
       "<Figure size 432x288 with 1 Axes>"
      ]
     },
     "metadata": {
      "needs_background": "light"
     },
     "output_type": "display_data"
    }
   ],
   "source": [
    "plt.plot(history.history['loss'], label='Training Loss')\n",
    "plt.plot(history.history['val_loss'], label='Validation Loss')\n",
    "plt.legend(loc='upper right')\n",
    "plt.ylabel('Cross Entropy')\n",
    "plt.ylim([0,1.0])\n",
    "plt.title('Training and Validation Loss')\n",
    "plt.xlabel('epoch')\n",
    "plt.show()\n"
   ]
  },
  {
   "cell_type": "code",
   "execution_count": 7,
   "metadata": {},
   "outputs": [
    {
     "name": "stdout",
     "output_type": "stream",
     "text": [
      "Found 8617 files belonging to 2 classes.\n"
     ]
    },
    {
     "name": "stderr",
     "output_type": "stream",
     "text": [
      "2023-09-04 01:12:13.042460: I tensorflow/core/common_runtime/executor.cc:1210] [/device:CPU:0] (DEBUG INFO) Executor start aborting (this does not indicate an error and you can ignore this message): INVALID_ARGUMENT: You must feed a value for placeholder tensor 'Placeholder/_4' with dtype int32 and shape [8617]\n",
      "\t [[{{node Placeholder/_4}}]]\n",
      "2023-09-04 01:12:13.042665: I tensorflow/core/common_runtime/executor.cc:1210] [/device:CPU:0] (DEBUG INFO) Executor start aborting (this does not indicate an error and you can ignore this message): INVALID_ARGUMENT: You must feed a value for placeholder tensor 'Placeholder/_4' with dtype int32 and shape [8617]\n",
      "\t [[{{node Placeholder/_4}}]]\n"
     ]
    },
    {
     "name": "stdout",
     "output_type": "stream",
     "text": [
      "270/270 [==============================] - 129s 479ms/step - loss: 1.5219 - auc: 0.7054 - tp: 1664.0000 - tn: 4126.0000 - fp: 1011.0000 - fn: 1816.0000 - precision: 0.6221 - recall: 0.4782 - bin_accuracy: 0.6719\n",
      "loss :  1.521862268447876\n",
      "auc :  0.705394446849823\n",
      "tp :  1664.0\n",
      "tn :  4126.0\n",
      "fp :  1011.0\n",
      "fn :  1816.0\n",
      "precision :  0.6220560669898987\n",
      "recall :  0.47816091775894165\n",
      "bin_accuracy :  0.6719275712966919\n",
      "\n"
     ]
    }
   ],
   "source": [
    "\n",
    "local_test_dir = '../../data/images/Test'\n",
    "\n",
    "test_ds = tf.keras.preprocessing.image_dataset_from_directory(\n",
    "    local_test_dir, seed=1337, image_size=image_size, batch_size=32, shuffle=True\n",
    "    )\n",
    "\n",
    "def test_classification(test_ds, model):\n",
    "    results_eval = model.evaluate(test_ds, batch_size=32)\n",
    "\n",
    "    for name, value in zip(model.metrics_names, results_eval):\n",
    "        print(name, ': ', value)\n",
    "    print()\n",
    "\n",
    "    return results_eval\n",
    "\n",
    "final_model_results = test_classification(test_ds, model)"
   ]
  },
  {
   "cell_type": "code",
   "execution_count": 8,
   "metadata": {},
   "outputs": [
    {
     "name": "stdout",
     "output_type": "stream",
     "text": [
      "INFO:tensorflow:Assets written to: InceptionV3_classifier/assets\n"
     ]
    },
    {
     "name": "stderr",
     "output_type": "stream",
     "text": [
      "INFO:tensorflow:Assets written to: InceptionV3_classifier/assets\n"
     ]
    }
   ],
   "source": [
    "\n",
    "model.save('InceptionV3_classifier')"
   ]
  },
  {
   "cell_type": "code",
   "execution_count": 10,
   "metadata": {},
   "outputs": [
    {
     "name": "stdout",
     "output_type": "stream",
     "text": [
      "197/197 [==============================] - 95s 484ms/step\n"
     ]
    },
    {
     "data": {
      "image/png": "[encoded data removed]",
      "text/plain": [
       "<Figure size 432x288 with 2 Axes>"
      ]
     },
     "metadata": {
      "needs_background": "light"
     },
     "output_type": "display_data"
    }
   ],
   "source": [
    "from sklearn.metrics import confusion_matrix, ConfusionMatrixDisplay\n",
    "\n",
    "predictions = model.predict(val_ds)\n",
    "threshold = 0.5\n",
    "predicted_labels = (predictions > threshold).astype(int)\n",
    "\n",
    "true_labels = np.concatenate([y for x, y in val_ds], axis=0)\n",
    "\n",
    "# Step 4: Compute the confusion matrix\n",
    "confusion = confusion_matrix(true_labels, predicted_labels)\n",
    "\n",
    "# Step 5: Visualize the confusion matrix\n",
    "disp = ConfusionMatrixDisplay(confusion, display_labels=['No_Fire', 'Fire'])\n",
    "disp.plot(cmap=plt.cm.Blues, values_format='d')\n",
    "plt.title('Confusion Matrix')\n",
    "plt.show()"
   ]
  },
  {
   "cell_type": "code",
   "execution_count": null,
   "metadata": {},
   "outputs": [],
   "source": []
  }
 ],
 "metadata": {
  "kernelspec": {
   "display_name": "Python 3",
   "language": "python",
   "name": "python3"
  },
  "language_info": {
   "codemirror_mode": {
    "name": "ipython",
    "version": 3
   },
   "file_extension": ".py",
   "mimetype": "text/x-python",
   "name": "python",
   "nbconvert_exporter": "python",
   "pygments_lexer": "ipython3",
   "version": "3.11.3"
  },
  "orig_nbformat": 4,
  "vscode": {
   "interpreter": {
    "hash": "b0fa6594d8f4cbf19f97940f81e996739fb7646882a419484c72d19e05852a7e"
   }
  }
 },
 "nbformat": 4,
 "nbformat_minor": 2
}
