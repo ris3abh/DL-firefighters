{
 "cells": [
  {
   "cell_type": "code",
   "execution_count": 1,
   "metadata": {},
   "outputs": [],
   "source": [
    "#General Use\n",
    "import numpy as np\n",
    "import random\n",
    "import itertools\n",
    "\n",
    "#Model Development\n",
    "import tensorflow as tf\n",
    "from tensorflow import keras\n",
    "from tensorflow.keras import layers\n",
    "from tensorflow.keras.layers import Input\n",
    "from tensorflow.keras.layers import concatenate\n",
    "from tensorflow.keras.layers import MaxPooling2D\n",
    "from tensorflow.keras.layers import Dropout, Lambda\n",
    "from tensorflow.keras.layers import Conv2D, Conv2DTranspose\n",
    "\n",
    "#Model Analysis / Evaluation\n",
    "import matplotlib.pyplot as plt\n",
    "from tensorflow.keras.models import load_model\n",
    "from tensorflow.keras.models import Model\n",
    "# from skimage.io import imshow\n",
    "import matplotlib.pyplot as plt\n",
    "\n",
    "#Saving models\n",
    "import pickle "
   ]
  },
  {
   "cell_type": "code",
   "execution_count": 2,
   "metadata": {},
   "outputs": [
    {
     "name": "stdout",
     "output_type": "stream",
     "text": [
      "Found 31501 files belonging to 2 classes.\n",
      "Using 25201 files for training.\n",
      "Found 31501 files belonging to 2 classes.\n",
      "Using 6300 files for validation.\n"
     ]
    }
   ],
   "source": [
    "local_train_dir = '../../data/images/Training'\n",
    "image_size = (150, 150)\n",
    "\n",
    "train_ds = tf.keras.preprocessing.image_dataset_from_directory(\n",
    "    local_train_dir, validation_split=0.2, subset=\"training\", seed=1337, image_size=image_size,\n",
    "    batch_size=32, shuffle=True\n",
    "    )\n",
    "\n",
    "val_ds = tf.keras.preprocessing.image_dataset_from_directory(\n",
    "    local_train_dir, validation_split=0.2, subset=\"validation\", seed=1337, image_size=image_size,\n",
    "    batch_size=32, shuffle=True\n",
    "    )"
   ]
  },
  {
   "cell_type": "code",
   "execution_count": 3,
   "metadata": {},
   "outputs": [],
   "source": [
    "train_ds = train_ds.prefetch(buffer_size=32)\n",
    "val_ds = val_ds.prefetch(buffer_size=32)"
   ]
  },
  {
   "cell_type": "code",
   "execution_count": 4,
   "metadata": {},
   "outputs": [
    {
     "name": "stderr",
     "output_type": "stream",
     "text": [
      "WARNING:absl:At this time, the v2.11+ optimizer `tf.keras.optimizers.Adam` runs slowly on M1/M2 Macs, please use the legacy Keras optimizer instead, located at `tf.keras.optimizers.legacy.Adam`.\n",
      "WARNING:absl:There is a known slowdown when using v2.11+ Keras optimizers on M1/M2 Macs. Falling back to the legacy Keras optimizer, i.e., `tf.keras.optimizers.legacy.Adam`.\n"
     ]
    },
    {
     "name": "stdout",
     "output_type": "stream",
     "text": [
      "Model: \"model\"\n",
      "_________________________________________________________________\n",
      " Layer (type)                Output Shape              Param #   \n",
      "=================================================================\n",
      " input_2 (InputLayer)        [(None, 150, 150, 3)]     0         \n",
      "                                                                 \n",
      " tf.math.truediv (TFOpLambd  (None, 150, 150, 3)       0         \n",
      " a)                                                              \n",
      "                                                                 \n",
      " tf.math.subtract (TFOpLamb  (None, 150, 150, 3)       0         \n",
      " da)                                                             \n",
      "                                                                 \n",
      " vgg16 (Functional)          (None, 4, 4, 512)         14714688  \n",
      "                                                                 \n",
      " global_average_pooling2d (  (None, 512)               0         \n",
      " GlobalAveragePooling2D)                                         \n",
      "                                                                 \n",
      " dense (Dense)               (None, 1024)              525312    \n",
      "                                                                 \n",
      " dense_1 (Dense)             (None, 512)               524800    \n",
      "                                                                 \n",
      " dense_2 (Dense)             (None, 256)               131328    \n",
      "                                                                 \n",
      " dense_3 (Dense)             (None, 1)                 257       \n",
      "                                                                 \n",
      "=================================================================\n",
      "Total params: 15896385 (60.64 MB)\n",
      "Trainable params: 1181697 (4.51 MB)\n",
      "Non-trainable params: 14714688 (56.13 MB)\n",
      "_________________________________________________________________\n"
     ]
    }
   ],
   "source": [
    "# VGG16\n",
    "from tensorflow.keras.applications.vgg16 import VGG16\n",
    "from tensorflow.keras.applications.inception_v3 import preprocess_input\n",
    "\n",
    "# Create the base model from the pre-trained model InceptionV3\n",
    "base_model = VGG16(input_shape=(150, 150, 3), include_top=False, weights='imagenet')\n",
    "\n",
    "# Freeze the base model\n",
    "base_model.trainable = False\n",
    "\n",
    "# Create new model on top\n",
    "inputs = keras.Input(shape=(150, 150, 3))\n",
    "x = preprocess_input(inputs)\n",
    "x = base_model(x, training=False)\n",
    "x = keras.layers.GlobalAveragePooling2D()(x)\n",
    "x = keras.layers.Dense(1024, activation='relu')(x)\n",
    "x = keras.layers.Dense(512, activation='relu')(x)\n",
    "x = keras.layers.Dense(256, activation='relu')(x)\n",
    "outputs = keras.layers.Dense(1, activation='sigmoid')(x)\n",
    "model = keras.Model(inputs, outputs)\n",
    "\n",
    "# Compile the model\n",
    "model.compile(optimizer=keras.optimizers.Adam(learning_rate=0.0001),    \n",
    "                loss=keras.losses.BinaryCrossentropy(from_logits=True),\n",
    "                metrics=[keras.metrics.BinaryAccuracy()])\n",
    "model.summary()"
   ]
  },
  {
   "cell_type": "code",
   "execution_count": 5,
   "metadata": {},
   "outputs": [
    {
     "name": "stderr",
     "output_type": "stream",
     "text": [
      "WARNING:absl:At this time, the v2.11+ optimizer `tf.keras.optimizers.Adam` runs slowly on M1/M2 Macs, please use the legacy Keras optimizer instead, located at `tf.keras.optimizers.legacy.Adam`.\n",
      "WARNING:absl:There is a known slowdown when using v2.11+ Keras optimizers on M1/M2 Macs. Falling back to the legacy Keras optimizer, i.e., `tf.keras.optimizers.legacy.Adam`.\n",
      "2023-09-03 22:42:45.690902: I tensorflow/core/common_runtime/executor.cc:1210] [/device:CPU:0] (DEBUG INFO) Executor start aborting (this does not indicate an error and you can ignore this message): INVALID_ARGUMENT: You must feed a value for placeholder tensor 'Placeholder/_4' with dtype int32 and shape [25201]\n",
      "\t [[{{node Placeholder/_4}}]]\n",
      "2023-09-03 22:42:45.691356: I tensorflow/core/common_runtime/executor.cc:1210] [/device:CPU:0] (DEBUG INFO) Executor start aborting (this does not indicate an error and you can ignore this message): INVALID_ARGUMENT: You must feed a value for placeholder tensor 'Placeholder/_4' with dtype int32 and shape [25201]\n",
      "\t [[{{node Placeholder/_4}}]]\n"
     ]
    },
    {
     "name": "stdout",
     "output_type": "stream",
     "text": [
      "Epoch 1/20\n"
     ]
    },
    {
     "name": "stderr",
     "output_type": "stream",
     "text": [
      "2023-09-03 22:42:50.956767: I tensorflow/core/common_runtime/executor.cc:1210] [/device:CPU:0] (DEBUG INFO) Executor start aborting (this does not indicate an error and you can ignore this message): INVALID_ARGUMENT: You must feed a value for placeholder tensor 'Placeholder/_0' with dtype string and shape [25201]\n",
      "\t [[{{node Placeholder/_0}}]]\n",
      "2023-09-03 22:42:50.956948: I tensorflow/core/common_runtime/executor.cc:1210] [/device:CPU:0] (DEBUG INFO) Executor start aborting (this does not indicate an error and you can ignore this message): INVALID_ARGUMENT: You must feed a value for placeholder tensor 'Placeholder/_0' with dtype string and shape [25201]\n",
      "\t [[{{node Placeholder/_0}}]]\n",
      "/opt/homebrew/lib/python3.11/site-packages/keras/src/backend.py:5805: UserWarning: \"`binary_crossentropy` received `from_logits=True`, but the `output` argument was produced by a Sigmoid activation and thus does not represent logits. Was this intended?\n",
      "  output, from_logits = _get_logits(\n"
     ]
    },
    {
     "name": "stdout",
     "output_type": "stream",
     "text": [
      "788/788 [==============================] - ETA: 0s - loss: 504.6484 - auc: 0.9959 - tp: 8905.0000 - tn: 15697.0000 - fp: 306.0000 - fn: 293.0000 - precision: 0.9668 - recall: 0.9681 - bin_accuracy: 0.9762"
     ]
    },
    {
     "name": "stderr",
     "output_type": "stream",
     "text": [
      "2023-09-03 23:54:31.495341: I tensorflow/core/common_runtime/executor.cc:1210] [/device:CPU:0] (DEBUG INFO) Executor start aborting (this does not indicate an error and you can ignore this message): INVALID_ARGUMENT: You must feed a value for placeholder tensor 'Placeholder/_4' with dtype int32 and shape [6300]\n",
      "\t [[{{node Placeholder/_4}}]]\n",
      "2023-09-03 23:54:31.495708: I tensorflow/core/common_runtime/executor.cc:1210] [/device:CPU:0] (DEBUG INFO) Executor start aborting (this does not indicate an error and you can ignore this message): INVALID_ARGUMENT: You must feed a value for placeholder tensor 'Placeholder/_0' with dtype string and shape [6300]\n",
      "\t [[{{node Placeholder/_0}}]]\n"
     ]
    },
    {
     "name": "stdout",
     "output_type": "stream",
     "text": [
      "788/788 [==============================] - 4692s 6s/step - loss: 504.6484 - auc: 0.9959 - tp: 8905.0000 - tn: 15697.0000 - fp: 306.0000 - fn: 293.0000 - precision: 0.9668 - recall: 0.9681 - bin_accuracy: 0.9762 - val_loss: 0.0242 - val_auc: 0.9994 - val_tp: 2274.0000 - val_tn: 3978.0000 - val_fp: 34.0000 - val_fn: 14.0000 - val_precision: 0.9853 - val_recall: 0.9939 - val_bin_accuracy: 0.9924\n",
      "Epoch 2/20\n",
      "788/788 [==============================] - 1971s 3s/step - loss: 99.7229 - auc: 0.9996 - tp: 9154.0000 - tn: 15917.0000 - fp: 86.0000 - fn: 44.0000 - precision: 0.9907 - recall: 0.9952 - bin_accuracy: 0.9948 - val_loss: 0.0171 - val_auc: 0.9998 - val_tp: 2287.0000 - val_tn: 3980.0000 - val_fp: 32.0000 - val_fn: 1.0000 - val_precision: 0.9862 - val_recall: 0.9996 - val_bin_accuracy: 0.9948\n",
      "Epoch 3/20\n",
      "788/788 [==============================] - 2045s 3s/step - loss: 61.6078 - auc: 0.9998 - tp: 9175.0000 - tn: 15950.0000 - fp: 53.0000 - fn: 23.0000 - precision: 0.9943 - recall: 0.9975 - bin_accuracy: 0.9970 - val_loss: 0.0182 - val_auc: 0.9995 - val_tp: 2287.0000 - val_tn: 3979.0000 - val_fp: 33.0000 - val_fn: 1.0000 - val_precision: 0.9858 - val_recall: 0.9996 - val_bin_accuracy: 0.9946\n",
      "Epoch 4/20\n",
      "788/788 [==============================] - 1371s 2s/step - loss: 54.0180 - auc: 0.9998 - tp: 9176.0000 - tn: 15955.0000 - fp: 48.0000 - fn: 22.0000 - precision: 0.9948 - recall: 0.9976 - bin_accuracy: 0.9972 - val_loss: 0.0072 - val_auc: 1.0000 - val_tp: 2287.0000 - val_tn: 3998.0000 - val_fp: 14.0000 - val_fn: 1.0000 - val_precision: 0.9939 - val_recall: 0.9996 - val_bin_accuracy: 0.9976\n",
      "Epoch 5/20\n",
      "788/788 [==============================] - 1185s 2s/step - loss: 51.4305 - auc: 0.9997 - tp: 9174.0000 - tn: 15953.0000 - fp: 50.0000 - fn: 24.0000 - precision: 0.9946 - recall: 0.9974 - bin_accuracy: 0.9971 - val_loss: 0.0058 - val_auc: 1.0000 - val_tp: 2287.0000 - val_tn: 4000.0000 - val_fp: 12.0000 - val_fn: 1.0000 - val_precision: 0.9948 - val_recall: 0.9996 - val_bin_accuracy: 0.9979\n",
      "Epoch 6/20\n",
      "788/788 [==============================] - 1177s 1s/step - loss: 35.6246 - auc: 0.9998 - tp: 9184.0000 - tn: 15966.0000 - fp: 37.0000 - fn: 14.0000 - precision: 0.9960 - recall: 0.9985 - bin_accuracy: 0.9980 - val_loss: 0.0057 - val_auc: 1.0000 - val_tp: 2288.0000 - val_tn: 4001.0000 - val_fp: 11.0000 - val_fn: 0.0000e+00 - val_precision: 0.9952 - val_recall: 1.0000 - val_bin_accuracy: 0.9983\n",
      "Epoch 7/20\n",
      "788/788 [==============================] - 1180s 1s/step - loss: 40.8127 - auc: 0.9999 - tp: 9180.0000 - tn: 15965.0000 - fp: 38.0000 - fn: 18.0000 - precision: 0.9959 - recall: 0.9980 - bin_accuracy: 0.9978 - val_loss: 0.0040 - val_auc: 1.0000 - val_tp: 2285.0000 - val_tn: 4003.0000 - val_fp: 9.0000 - val_fn: 3.0000 - val_precision: 0.9961 - val_recall: 0.9987 - val_bin_accuracy: 0.9981\n",
      "Epoch 8/20\n",
      "788/788 [==============================] - 1152s 1s/step - loss: 35.3088 - auc: 0.9999 - tp: 9179.0000 - tn: 15964.0000 - fp: 39.0000 - fn: 19.0000 - precision: 0.9958 - recall: 0.9979 - bin_accuracy: 0.9977 - val_loss: 0.0055 - val_auc: 1.0000 - val_tp: 2285.0000 - val_tn: 3999.0000 - val_fp: 13.0000 - val_fn: 3.0000 - val_precision: 0.9943 - val_recall: 0.9987 - val_bin_accuracy: 0.9975\n",
      "Epoch 9/20\n",
      "788/788 [==============================] - 1146s 1s/step - loss: 32.1742 - auc: 0.9998 - tp: 9185.0000 - tn: 15975.0000 - fp: 28.0000 - fn: 13.0000 - precision: 0.9970 - recall: 0.9986 - bin_accuracy: 0.9984 - val_loss: 0.0041 - val_auc: 1.0000 - val_tp: 2283.0000 - val_tn: 4006.0000 - val_fp: 6.0000 - val_fn: 5.0000 - val_precision: 0.9974 - val_recall: 0.9978 - val_bin_accuracy: 0.9983\n",
      "Epoch 10/20\n",
      "788/788 [==============================] - 1473s 2s/step - loss: 26.9090 - auc: 0.9999 - tp: 9186.0000 - tn: 15976.0000 - fp: 27.0000 - fn: 12.0000 - precision: 0.9971 - recall: 0.9987 - bin_accuracy: 0.9985 - val_loss: 0.0050 - val_auc: 1.0000 - val_tp: 2286.0000 - val_tn: 4002.0000 - val_fp: 10.0000 - val_fn: 2.0000 - val_precision: 0.9956 - val_recall: 0.9991 - val_bin_accuracy: 0.9981\n",
      "Epoch 11/20\n",
      "788/788 [==============================] - 1437s 2s/step - loss: 30.9425 - auc: 0.9999 - tp: 9187.0000 - tn: 15967.0000 - fp: 36.0000 - fn: 11.0000 - precision: 0.9961 - recall: 0.9988 - bin_accuracy: 0.9981 - val_loss: 0.0028 - val_auc: 1.0000 - val_tp: 2286.0000 - val_tn: 4007.0000 - val_fp: 5.0000 - val_fn: 2.0000 - val_precision: 0.9978 - val_recall: 0.9991 - val_bin_accuracy: 0.9989\n",
      "Epoch 12/20\n",
      "788/788 [==============================] - 1582s 2s/step - loss: 24.7218 - auc: 1.0000 - tp: 9186.0000 - tn: 15977.0000 - fp: 26.0000 - fn: 12.0000 - precision: 0.9972 - recall: 0.9987 - bin_accuracy: 0.9985 - val_loss: 0.0032 - val_auc: 1.0000 - val_tp: 2286.0000 - val_tn: 4007.0000 - val_fp: 5.0000 - val_fn: 2.0000 - val_precision: 0.9978 - val_recall: 0.9991 - val_bin_accuracy: 0.9989\n",
      "Epoch 13/20\n",
      "788/788 [==============================] - 1117s 1s/step - loss: 28.2673 - auc: 0.9999 - tp: 9187.0000 - tn: 15979.0000 - fp: 24.0000 - fn: 11.0000 - precision: 0.9974 - recall: 0.9988 - bin_accuracy: 0.9986 - val_loss: 0.0038 - val_auc: 1.0000 - val_tp: 2284.0000 - val_tn: 4005.0000 - val_fp: 7.0000 - val_fn: 4.0000 - val_precision: 0.9969 - val_recall: 0.9983 - val_bin_accuracy: 0.9983\n",
      "Epoch 14/20\n",
      "788/788 [==============================] - 31598s 40s/step - loss: 20.7377 - auc: 1.0000 - tp: 9188.0000 - tn: 15981.0000 - fp: 22.0000 - fn: 10.0000 - precision: 0.9976 - recall: 0.9989 - bin_accuracy: 0.9987 - val_loss: 0.0057 - val_auc: 1.0000 - val_tp: 2287.0000 - val_tn: 3999.0000 - val_fp: 13.0000 - val_fn: 1.0000 - val_precision: 0.9943 - val_recall: 0.9996 - val_bin_accuracy: 0.9978\n",
      "Epoch 15/20\n",
      "788/788 [==============================] - 6094s 8s/step - loss: 19.7694 - auc: 1.0000 - tp: 9190.0000 - tn: 15980.0000 - fp: 23.0000 - fn: 8.0000 - precision: 0.9975 - recall: 0.9991 - bin_accuracy: 0.9988 - val_loss: 0.0038 - val_auc: 1.0000 - val_tp: 2283.0000 - val_tn: 4005.0000 - val_fp: 7.0000 - val_fn: 5.0000 - val_precision: 0.9969 - val_recall: 0.9978 - val_bin_accuracy: 0.9981\n",
      "Epoch 16/20\n",
      "788/788 [==============================] - 1934s 2s/step - loss: 17.9197 - auc: 1.0000 - tp: 9192.0000 - tn: 15984.0000 - fp: 19.0000 - fn: 6.0000 - precision: 0.9979 - recall: 0.9993 - bin_accuracy: 0.9990 - val_loss: 0.0047 - val_auc: 1.0000 - val_tp: 2286.0000 - val_tn: 4004.0000 - val_fp: 8.0000 - val_fn: 2.0000 - val_precision: 0.9965 - val_recall: 0.9991 - val_bin_accuracy: 0.9984\n",
      "Epoch 17/20\n",
      "788/788 [==============================] - 1161s 1s/step - loss: 19.0621 - auc: 1.0000 - tp: 9189.0000 - tn: 15981.0000 - fp: 22.0000 - fn: 9.0000 - precision: 0.9976 - recall: 0.9990 - bin_accuracy: 0.9988 - val_loss: 0.0036 - val_auc: 1.0000 - val_tp: 2283.0000 - val_tn: 4007.0000 - val_fp: 5.0000 - val_fn: 5.0000 - val_precision: 0.9978 - val_recall: 0.9978 - val_bin_accuracy: 0.9984\n",
      "Epoch 18/20\n",
      "788/788 [==============================] - 1146s 1s/step - loss: 16.2294 - auc: 1.0000 - tp: 9192.0000 - tn: 15986.0000 - fp: 17.0000 - fn: 6.0000 - precision: 0.9982 - recall: 0.9993 - bin_accuracy: 0.9991 - val_loss: 0.0034 - val_auc: 1.0000 - val_tp: 2285.0000 - val_tn: 4005.0000 - val_fp: 7.0000 - val_fn: 3.0000 - val_precision: 0.9969 - val_recall: 0.9987 - val_bin_accuracy: 0.9984\n",
      "Epoch 19/20\n",
      "788/788 [==============================] - 1112s 1s/step - loss: 15.1807 - auc: 1.0000 - tp: 9191.0000 - tn: 15985.0000 - fp: 18.0000 - fn: 7.0000 - precision: 0.9980 - recall: 0.9992 - bin_accuracy: 0.9990 - val_loss: 0.0034 - val_auc: 1.0000 - val_tp: 2285.0000 - val_tn: 4008.0000 - val_fp: 4.0000 - val_fn: 3.0000 - val_precision: 0.9983 - val_recall: 0.9987 - val_bin_accuracy: 0.9989\n",
      "Epoch 20/20\n",
      "788/788 [==============================] - 1125s 1s/step - loss: 12.3917 - auc: 0.9999 - tp: 9193.0000 - tn: 15989.0000 - fp: 14.0000 - fn: 5.0000 - precision: 0.9985 - recall: 0.9995 - bin_accuracy: 0.9992 - val_loss: 0.0051 - val_auc: 1.0000 - val_tp: 2283.0000 - val_tn: 4005.0000 - val_fp: 7.0000 - val_fn: 5.0000 - val_precision: 0.9969 - val_recall: 0.9978 - val_bin_accuracy: 0.9981\n"
     ]
    }
   ],
   "source": [
    "METRICS = [\n",
    "    tf.keras.metrics.AUC(name='auc'),\n",
    "    tf.keras.metrics.TruePositives(name='tp'),\n",
    "    tf.keras.metrics.TrueNegatives(name='tn'),\n",
    "    tf.keras.metrics.FalsePositives(name='fp'),\n",
    "    tf.keras.metrics.FalseNegatives(name='fn'),\n",
    "    tf.keras.metrics.Precision(name='precision'),\n",
    "    tf.keras.metrics.Recall(name='recall'),\n",
    "    tf.keras.metrics.BinaryAccuracy(name='bin_accuracy')\n",
    "]\n",
    "\n",
    "model.compile(optimizer=keras.optimizers.Adam(learning_rate=0.0001),\n",
    "                loss=keras.losses.BinaryCrossentropy(from_logits=True),\n",
    "                metrics=METRICS)\n",
    "\n",
    "# Define callbacks\n",
    "early_stopping = tf.keras.callbacks.EarlyStopping(\n",
    "    monitor='val_auc',\n",
    "    verbose=1,\n",
    "    patience=10,\n",
    "    mode='max',\n",
    "    restore_best_weights=True)\n",
    "\n",
    "# Define class weights\n",
    "total = 0\n",
    "for image, label in train_ds:\n",
    "    total += label.numpy().sum()\n",
    "\n",
    "weight_for_0 = (1 / 1) * (total) / 2.0\n",
    "weight_for_1 = (1 / 0.5) * (total) / 2.0\n",
    "\n",
    "class_weight = {0: weight_for_0, 1: weight_for_1}\n",
    "\n",
    "# Train the model\n",
    "history = model.fit(train_ds, epochs=20, validation_data=val_ds, callbacks=[early_stopping], class_weight=class_weight)"
   ]
  },
  {
   "cell_type": "code",
   "execution_count": 10,
   "metadata": {},
   "outputs": [
    {
     "data": {
      "text/plain": [
       "Text(0.5, 1.0, 'Training and Validation AUC')"
      ]
     },
     "execution_count": 10,
     "metadata": {},
     "output_type": "execute_result"
    },
    {
     "data": {
      "image/png": "[encoded data removed]",
      "text/plain": [
       "<Figure size 720x720 with 1 Axes>"
      ]
     },
     "metadata": {
      "needs_background": "light"
     },
     "output_type": "display_data"
    }
   ],
   "source": [
    "# plotting the metrics\n",
    "fig = plt.figure(figsize=(10, 10))\n",
    "plt.subplot(2, 1, 1)\n",
    "plt.plot(history.history['auc'], label='Training AUC')\n",
    "plt.plot(history.history['val_auc'], label='Validation AUC')\n",
    "plt.legend(loc='lower right')\n",
    "plt.ylabel('AUC')\n",
    "plt.ylim([min(plt.ylim()),1])\n",
    "plt.title('Training and Validation AUC')"
   ]
  },
  {
   "cell_type": "code",
   "execution_count": 11,
   "metadata": {},
   "outputs": [
    {
     "data": {
      "image/png": "[encoded data removed]",
      "text/plain": [
       "<Figure size 432x288 with 1 Axes>"
      ]
     },
     "metadata": {
      "needs_background": "light"
     },
     "output_type": "display_data"
    }
   ],
   "source": [
    "plt.subplot(2, 1, 2)\n",
    "plt.plot(history.history['loss'], label='Training Loss')\n",
    "plt.plot(history.history['val_loss'], label='Validation Loss')\n",
    "plt.legend(loc='upper right')\n",
    "plt.ylabel('Cross Entropy')\n",
    "plt.ylim([0,1.0])\n",
    "plt.title('Training and Validation Loss')\n",
    "plt.xlabel('epoch')\n",
    "plt.show()"
   ]
  },
  {
   "cell_type": "code",
   "execution_count": 13,
   "metadata": {},
   "outputs": [
    {
     "data": {
      "image/png": "[encoded data removed]",
      "text/plain": [
       "<Figure size 432x288 with 1 Axes>"
      ]
     },
     "metadata": {
      "needs_background": "light"
     },
     "output_type": "display_data"
    }
   ],
   "source": [
    "plt.plot(history.history['loss'], label='Training Loss')\n",
    "plt.legend(loc='upper right')\n",
    "plt.ylabel('Cross Entropy')\n",
    "plt.ylim([0,1.0])\n",
    "plt.title('Training and Validation Loss')\n",
    "plt.xlabel('epoch')\n",
    "plt.show()"
   ]
  },
  {
   "cell_type": "code",
   "execution_count": 12,
   "metadata": {},
   "outputs": [
    {
     "data": {
      "image/png": "[encoded data removed]",
      "text/plain": [
       "<Figure size 432x288 with 1 Axes>"
      ]
     },
     "metadata": {
      "needs_background": "light"
     },
     "output_type": "display_data"
    }
   ],
   "source": [
    "plt.subplot(2, 1, 1)\n",
    "plt.plot(history.history['bin_accuracy'], label='Training Accuracy')\n",
    "plt.plot(history.history['val_bin_accuracy'], label='Validation Accuracy')\n",
    "plt.legend(loc='lower right')\n",
    "plt.ylabel('Accuracy')\n",
    "plt.ylim([min(plt.ylim()),1])\n",
    "plt.title('Training and Validation Accuracy')\n",
    "plt.xlabel('epoch')\n",
    "plt.show()\n"
   ]
  },
  {
   "cell_type": "code",
   "execution_count": 7,
   "metadata": {},
   "outputs": [
    {
     "name": "stdout",
     "output_type": "stream",
     "text": [
      "Found 8617 files belonging to 2 classes.\n"
     ]
    },
    {
     "name": "stderr",
     "output_type": "stream",
     "text": [
      "2023-09-04 16:57:49.064735: I tensorflow/core/common_runtime/executor.cc:1210] [/device:CPU:0] (DEBUG INFO) Executor start aborting (this does not indicate an error and you can ignore this message): INVALID_ARGUMENT: You must feed a value for placeholder tensor 'Placeholder/_4' with dtype int32 and shape [8617]\n",
      "\t [[{{node Placeholder/_4}}]]\n",
      "2023-09-04 16:57:49.064904: I tensorflow/core/common_runtime/executor.cc:1210] [/device:CPU:0] (DEBUG INFO) Executor start aborting (this does not indicate an error and you can ignore this message): INVALID_ARGUMENT: You must feed a value for placeholder tensor 'Placeholder/_0' with dtype string and shape [8617]\n",
      "\t [[{{node Placeholder/_0}}]]\n"
     ]
    },
    {
     "name": "stdout",
     "output_type": "stream",
     "text": [
      "270/270 [==============================] - 308s 1s/step - loss: 1.3948 - auc: 0.8301 - tp: 2566.0000 - tn: 4329.0000 - fp: 808.0000 - fn: 914.0000 - precision: 0.7605 - recall: 0.7374 - bin_accuracy: 0.8002\n",
      "loss :  1.3947621583938599\n",
      "auc :  0.8301387429237366\n",
      "tp :  2566.0\n",
      "tn :  4329.0\n",
      "fp :  808.0\n",
      "fn :  914.0\n",
      "precision :  0.760521650314331\n",
      "recall :  0.7373563051223755\n",
      "bin_accuracy :  0.8001624941825867\n",
      "\n"
     ]
    }
   ],
   "source": [
    "local_test_dir = '../../data/images/Test'\n",
    "\n",
    "test_ds = tf.keras.preprocessing.image_dataset_from_directory(\n",
    "    local_test_dir, seed=1337, image_size=image_size, batch_size=32, shuffle=True\n",
    "    )\n",
    "\n",
    "def test_classification(test_ds, model):\n",
    "    results_eval = model.evaluate(test_ds, batch_size=32)\n",
    "\n",
    "    for name, value in zip(model.metrics_names, results_eval):\n",
    "        print(name, ': ', value)\n",
    "    print()\n",
    "\n",
    "    return results_eval\n",
    "\n",
    "final_model_results = test_classification(test_ds, model)"
   ]
  },
  {
   "cell_type": "code",
   "execution_count": 8,
   "metadata": {},
   "outputs": [
    {
     "name": "stdout",
     "output_type": "stream",
     "text": [
      "INFO:tensorflow:Assets written to: VGG16_classifier/assets\n"
     ]
    },
    {
     "name": "stderr",
     "output_type": "stream",
     "text": [
      "INFO:tensorflow:Assets written to: VGG16_classifier/assets\n"
     ]
    }
   ],
   "source": [
    "model.save(\"VGG16_classifier\")"
   ]
  },
  {
   "cell_type": "code",
   "execution_count": 9,
   "metadata": {},
   "outputs": [
    {
     "name": "stdout",
     "output_type": "stream",
     "text": [
      "788/788 [==============================] - 936s 1s/step - loss: 0.0019 - auc: 1.0000 - tp: 9191.0000 - tn: 15992.0000 - fp: 11.0000 - fn: 7.0000 - precision: 0.9988 - recall: 0.9992 - bin_accuracy: 0.9993\n",
      "loss :  0.0018621700583025813\n",
      "auc :  0.9999982714653015\n",
      "tp :  9191.0\n",
      "tn :  15992.0\n",
      "fp :  11.0\n",
      "fn :  7.0\n",
      "precision :  0.9988046288490295\n",
      "recall :  0.9992389678955078\n",
      "bin_accuracy :  0.9992857575416565\n",
      "\n"
     ]
    }
   ],
   "source": [
    "final_model_results_train = test_classification(train_ds, model)"
   ]
  },
  {
   "cell_type": "code",
   "execution_count": 14,
   "metadata": {},
   "outputs": [
    {
     "name": "stdout",
     "output_type": "stream",
     "text": [
      "197/197 [==============================] - 230s 1s/step - loss: 0.0051 - auc: 1.0000 - tp: 2283.0000 - tn: 4005.0000 - fp: 7.0000 - fn: 5.0000 - precision: 0.9969 - recall: 0.9978 - bin_accuracy: 0.9981\n",
      "loss :  0.005099472589790821\n",
      "auc :  0.9999873638153076\n",
      "tp :  2283.0\n",
      "tn :  4005.0\n",
      "fp :  7.0\n",
      "fn :  5.0\n",
      "precision :  0.9969432353973389\n",
      "recall :  0.9978147149085999\n",
      "bin_accuracy :  0.9980952143669128\n",
      "\n"
     ]
    }
   ],
   "source": [
    "final_model_results_val = test_classification(val_ds, model)"
   ]
  },
  {
   "cell_type": "code",
   "execution_count": null,
   "metadata": {},
   "outputs": [],
   "source": []
  }
 ],
 "metadata": {
  "kernelspec": {
   "display_name": "Python 3",
   "language": "python",
   "name": "python3"
  },
  "language_info": {
   "codemirror_mode": {
    "name": "ipython",
    "version": 3
   },
   "file_extension": ".py",
   "mimetype": "text/x-python",
   "name": "python",
   "nbconvert_exporter": "python",
   "pygments_lexer": "ipython3",
   "version": "3.11.3"
  },
  "orig_nbformat": 4,
  "vscode": {
   "interpreter": {
    "hash": "b0fa6594d8f4cbf19f97940f81e996739fb7646882a419484c72d19e05852a7e"
   }
  }
 },
 "nbformat": 4,
 "nbformat_minor": 2
}
